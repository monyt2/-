{
  "nbformat": 4,
  "nbformat_minor": 0,
  "metadata": {
    "colab": {
      "name": "pabi.learning  연습",
      "provenance": [],
      "collapsed_sections": [],
      "authorship_tag": "ABX9TyO3/v6OEEmGcYRs1luSgmjm",
      "include_colab_link": true
    },
    "kernelspec": {
      "name": "python3",
      "display_name": "Python 3"
    }
  },
  "cells": [
    {
      "cell_type": "markdown",
      "metadata": {
        "id": "view-in-github",
        "colab_type": "text"
      },
      "source": [
        "<a href=\"https://colab.research.google.com/github/monyt2/-/blob/master/pabi_learning_%EC%97%B0%EC%8A%B5.ipynb\" target=\"_parent\"><img src=\"https://colab.research.google.com/assets/colab-badge.svg\" alt=\"Open In Colab\"/></a>"
      ]
    },
    {
      "cell_type": "code",
      "metadata": {
        "id": "7qmK8CqLNT5N",
        "colab_type": "code",
        "outputId": "1de19e5d-7a91-4f2a-a417-1f8c85639c6c",
        "colab": {
          "base_uri": "https://localhost:8080/",
          "height": 34
        }
      },
      "source": [
        "print(25//10**2+1)"
      ],
      "execution_count": 0,
      "outputs": [
        {
          "output_type": "stream",
          "text": [
            "1\n"
          ],
          "name": "stdout"
        }
      ]
    },
    {
      "cell_type": "code",
      "metadata": {
        "id": "Hp8iFTp6Nc9K",
        "colab_type": "code",
        "outputId": "500fdedb-79ea-47cf-f3c4-05dd4a99c924",
        "colab": {
          "base_uri": "https://localhost:8080/",
          "height": 34
        }
      },
      "source": [
        "10**2"
      ],
      "execution_count": 0,
      "outputs": [
        {
          "output_type": "execute_result",
          "data": {
            "text/plain": [
              "100"
            ]
          },
          "metadata": {
            "tags": []
          },
          "execution_count": 2
        }
      ]
    },
    {
      "cell_type": "code",
      "metadata": {
        "id": "M68pVYKmNkaa",
        "colab_type": "code",
        "outputId": "f2a6d163-f1dd-4ae5-afae-9500836a65fa",
        "colab": {
          "base_uri": "https://localhost:8080/",
          "height": 34
        }
      },
      "source": [
        "25//10**2"
      ],
      "execution_count": 0,
      "outputs": [
        {
          "output_type": "execute_result",
          "data": {
            "text/plain": [
              "0"
            ]
          },
          "metadata": {
            "tags": []
          },
          "execution_count": 4
        }
      ]
    },
    {
      "cell_type": "code",
      "metadata": {
        "id": "CTzdl4XUNpEd",
        "colab_type": "code",
        "outputId": "e1e10a9f-cdb5-4ba1-887e-994a41c4d450",
        "colab": {
          "base_uri": "https://localhost:8080/",
          "height": 34
        }
      },
      "source": [
        "a,b=\"100\",200\n",
        "print(a+str(b))"
      ],
      "execution_count": 0,
      "outputs": [
        {
          "output_type": "stream",
          "text": [
            "100200\n"
          ],
          "name": "stdout"
        }
      ]
    },
    {
      "cell_type": "markdown",
      "metadata": {
        "id": "rx_LRjmIQn5s",
        "colab_type": "text"
      },
      "source": [
        "동전교환 프로그램"
      ]
    },
    {
      "cell_type": "code",
      "metadata": {
        "id": "GjkXQvz8N11e",
        "colab_type": "code",
        "colab": {}
      },
      "source": [
        "money,c500,c100,c50,c10=0,0,0,0,0"
      ],
      "execution_count": 0,
      "outputs": []
    },
    {
      "cell_type": "code",
      "metadata": {
        "id": "tos-o-63PE2I",
        "colab_type": "code",
        "outputId": "f3091904-b4c3-4c62-fc9b-c9586cf4f999",
        "colab": {
          "base_uri": "https://localhost:8080/",
          "height": 34
        }
      },
      "source": [
        "money=int(input(\"교환할 돈이 얼마인가\"))"
      ],
      "execution_count": 0,
      "outputs": [
        {
          "output_type": "stream",
          "text": [
            "교환할 돈이 얼마인가4320\n"
          ],
          "name": "stdout"
        }
      ]
    },
    {
      "cell_type": "code",
      "metadata": {
        "id": "oSNTjU9TPLY0",
        "colab_type": "code",
        "colab": {}
      },
      "source": [
        "c500 = money//500\n",
        "money%=500"
      ],
      "execution_count": 0,
      "outputs": []
    },
    {
      "cell_type": "code",
      "metadata": {
        "id": "jLYL4uWhPc0E",
        "colab_type": "code",
        "colab": {}
      },
      "source": [
        "c100=money//100\n",
        "money%=100"
      ],
      "execution_count": 0,
      "outputs": []
    },
    {
      "cell_type": "code",
      "metadata": {
        "id": "ruQv-SW4PpvN",
        "colab_type": "code",
        "colab": {}
      },
      "source": [
        "c50=money//50\n",
        "money%=50"
      ],
      "execution_count": 0,
      "outputs": []
    },
    {
      "cell_type": "code",
      "metadata": {
        "id": "Mel8M5ByP5kX",
        "colab_type": "code",
        "colab": {}
      },
      "source": [
        "c10=money//10\n",
        "money%=10"
      ],
      "execution_count": 0,
      "outputs": []
    },
    {
      "cell_type": "code",
      "metadata": {
        "id": "UDIGCDgbQLZN",
        "colab_type": "code",
        "outputId": "1149556b-0825-4085-f2aa-c6632d511be3",
        "colab": {
          "base_uri": "https://localhost:8080/",
          "height": 34
        }
      },
      "source": [
        "c500,c100,c50,c10"
      ],
      "execution_count": 0,
      "outputs": [
        {
          "output_type": "execute_result",
          "data": {
            "text/plain": [
              "(8, 3, 0, 2)"
            ]
          },
          "metadata": {
            "tags": []
          },
          "execution_count": 21
        }
      ]
    },
    {
      "cell_type": "code",
      "metadata": {
        "id": "3DH6V-AhQRHu",
        "colab_type": "code",
        "outputId": "d1761d91-5441-4090-a8fd-217b1dd08a4a",
        "colab": {
          "base_uri": "https://localhost:8080/",
          "height": 34
        }
      },
      "source": [
        "a=3\n",
        "a+=1\n",
        "a*=2\n",
        "a-=1\n",
        "print(a)"
      ],
      "execution_count": 0,
      "outputs": [
        {
          "output_type": "stream",
          "text": [
            "7\n"
          ],
          "name": "stdout"
        }
      ]
    },
    {
      "cell_type": "code",
      "metadata": {
        "id": "K2ym93apSKy8",
        "colab_type": "code",
        "outputId": "9fc21ab5-a64e-490e-dfe8-2ed2a54dd4a0",
        "colab": {
          "base_uri": "https://localhost:8080/",
          "height": 34
        }
      },
      "source": [
        "year=2000\n",
        "print((((year%4==0)and(year%100!=0))or(year%400==0)))"
      ],
      "execution_count": 0,
      "outputs": [
        {
          "output_type": "stream",
          "text": [
            "True\n"
          ],
          "name": "stdout"
        }
      ]
    },
    {
      "cell_type": "markdown",
      "metadata": {
        "id": "HG3_RRnLV3T8",
        "colab_type": "text"
      },
      "source": [
        "중첩  if 예제 문제"
      ]
    },
    {
      "cell_type": "code",
      "metadata": {
        "id": "NQWXqLs5SojQ",
        "colab_type": "code",
        "outputId": "3098abfc-9766-45f5-ddf6-3fc7f44d6b87",
        "colab": {
          "base_uri": "https://localhost:8080/",
          "height": 70
        }
      },
      "source": [
        "applequality = input(\"사과의 상태를 입력하시오:\")\n",
        "apple = int(input(\"사과의 가격을 입력하시오:\"))\n",
        "if applequality ==\"신선\":\n",
        "  if apple<=1000:\n",
        "    print(\"10개를 산다\")\n",
        "  elif apple>1000:\n",
        "    print(\"5개를 산다\")\n",
        "else: print(\"사과를 사지 않는다\")"
      ],
      "execution_count": 0,
      "outputs": [
        {
          "output_type": "stream",
          "text": [
            "사과의 상태를 입력하시오:신선\n",
            "사과의 가격을 입력하시오:1000\n",
            "10개를 산다\n"
          ],
          "name": "stdout"
        }
      ]
    },
    {
      "cell_type": "markdown",
      "metadata": {
        "id": "H40Y_9jMZ9Fq",
        "colab_type": "text"
      },
      "source": [
        "예제 조건문 기초(마지막 문장 뛰움만 바뀜)"
      ]
    },
    {
      "cell_type": "code",
      "metadata": {
        "id": "plSJBWVyXPte",
        "colab_type": "code",
        "outputId": "38f0500c-98db-40b1-af49-f3c82ee1db6e",
        "colab": {
          "base_uri": "https://localhost:8080/",
          "height": 34
        }
      },
      "source": [
        "python101= 95\n",
        "if python101>=90:\n",
        "  print(\"참\")\n",
        "else: \n",
        "  print(\"거짓\")\n",
        "\n",
        "  print(\"프로그램 끝\")\n",
        "\n"
      ],
      "execution_count": 0,
      "outputs": [
        {
          "output_type": "stream",
          "text": [
            "참\n"
          ],
          "name": "stdout"
        }
      ]
    },
    {
      "cell_type": "code",
      "metadata": {
        "id": "i-hwdI2wZGKU",
        "colab_type": "code",
        "outputId": "cc4c6fbb-c9a4-45b0-ba54-703d0a2a16e7",
        "colab": {
          "base_uri": "https://localhost:8080/",
          "height": 52
        }
      },
      "source": [
        "python101= 95\n",
        "if python101>=90:\n",
        "  print(\"참\")\n",
        "else: \n",
        "  print(\"거짓\")\n",
        "\n",
        "print(\"프로그램 끝\")\n",
        "\n"
      ],
      "execution_count": 0,
      "outputs": [
        {
          "output_type": "stream",
          "text": [
            "참\n",
            "프로그램 끝\n"
          ],
          "name": "stdout"
        }
      ]
    },
    {
      "cell_type": "code",
      "metadata": {
        "id": "kC83yAbVZ7nQ",
        "colab_type": "code",
        "outputId": "8e22ca0b-b1ce-4a3e-b97a-4f26045410ea",
        "colab": {
          "base_uri": "https://localhost:8080/",
          "height": 70
        }
      },
      "source": [
        "python101=int(input(\"점수를 입력하세요:\"))\n",
        "if python101>=90:\n",
        "  print(\"A\")\n",
        "elif python101>=80:\n",
        "  print(\"B\")\n",
        "elif python101>=70:\n",
        "  print(\"C\")\n",
        "elif python101>=60:\n",
        "  print(\"D\")\n",
        "else:\n",
        "  print(\"F\")\n",
        "print(\"수고많으셨습니다.\")          \n"
      ],
      "execution_count": 0,
      "outputs": [
        {
          "output_type": "stream",
          "text": [
            "점수를 입력하세요:95\n",
            "A\n",
            "수고많으셨습니다.\n"
          ],
          "name": "stdout"
        }
      ]
    },
    {
      "cell_type": "markdown",
      "metadata": {
        "id": "AVtg3XLWcdrV",
        "colab_type": "text"
      },
      "source": [
        "가위바위보 문제"
      ]
    },
    {
      "cell_type": "code",
      "metadata": {
        "id": "eoMB0pc3aw6l",
        "colab_type": "code",
        "outputId": "17118627-2e00-4d68-ac64-536f25a8f4d4",
        "colab": {
          "base_uri": "https://localhost:8080/",
          "height": 52
        }
      },
      "source": [
        "import random\n",
        "player =input(\"가위,바위,보 중 하나를 선택\")\n",
        "\n",
        "number = random.randint(0,2)\n",
        "if number == 0:\n",
        "  computer = \"가위\"\n",
        "elif number == 1:\n",
        "  computer = \"바위\"\n",
        "elif number == 2:\n",
        "  computer = \"보\"\n",
        "\n",
        "print(\"사용자:\",player,\"컴퓨터:\",computer)  "
      ],
      "execution_count": 0,
      "outputs": [
        {
          "output_type": "stream",
          "text": [
            "가위,바위,보 중 하나를 선택가위\n",
            "사용자: 가위 컴퓨터: 가위\n"
          ],
          "name": "stdout"
        }
      ]
    },
    {
      "cell_type": "code",
      "metadata": {
        "id": "-mCIUOVudA7V",
        "colab_type": "code",
        "outputId": "d26bdcfb-9eb7-48cc-a866-2547e9f3b29a",
        "colab": {
          "base_uri": "https://localhost:8080/",
          "height": 70
        }
      },
      "source": [
        "import random\n",
        "player =input(\"가위,바위,보 중 하나를 선택\")\n",
        "\n",
        "number = random.randint(0,2)\n",
        "if number == 0:\n",
        "  computer = \"가위\"\n",
        "elif number == 1:\n",
        "  computer = \"바위\"\n",
        "elif number == 2:\n",
        "  computer = \"보\"\n",
        "print(\"사용자:\",player,\"컴퓨터:\",computer) \n",
        "\n",
        "if player==computer:\n",
        "  print(\"비겼음\")\n",
        "elif player == \"가위\":\n",
        "  if computer == \"보\":\n",
        "    print(\"사용자가 이겼음\")\n",
        "elif player == \"바위\":\n",
        "  if computer == \"가위\":\n",
        "    print(\"사용자가 이겼음\")\n",
        "elif player == \"보\":\n",
        "  if computer == \"바위\":\n",
        "    print(\"사용자가 이겼음\")\n",
        "       "
      ],
      "execution_count": 0,
      "outputs": [
        {
          "output_type": "stream",
          "text": [
            "가위,바위,보 중 하나를 선택가위\n",
            "사용자: 가위 컴퓨터: 보\n",
            "사용자가 이겼음\n"
          ],
          "name": "stdout"
        }
      ]
    },
    {
      "cell_type": "code",
      "metadata": {
        "id": "NiybZETTfG6J",
        "colab_type": "code",
        "outputId": "52335700-6ef2-498c-a3f5-c7203e41e8b9",
        "colab": {
          "base_uri": "https://localhost:8080/",
          "height": 34
        }
      },
      "source": [
        "mathscore = 70\n",
        "englishscore = 40\n",
        "totalscore = mathscore + englishscore\n",
        "if totalscore >=110:\n",
        "  if mathscore>=40 and englishscore >=40:\n",
        "    print(\"합격\")\n",
        "  else:\n",
        "    print(\"불합격\")\n",
        "else:\n",
        "  print(\"불합격(종합점수부족\")      \n",
        "\n",
        "\n"
      ],
      "execution_count": 0,
      "outputs": [
        {
          "output_type": "stream",
          "text": [
            "합격\n"
          ],
          "name": "stdout"
        }
      ]
    },
    {
      "cell_type": "markdown",
      "metadata": {
        "id": "RMnGSiwDbf7z",
        "colab_type": "text"
      },
      "source": [
        "for 문 연습"
      ]
    },
    {
      "cell_type": "code",
      "metadata": {
        "id": "KosHadUhhSWN",
        "colab_type": "code",
        "outputId": "a422ccba-8b67-4079-8913-b67a29588f77",
        "colab": {
          "base_uri": "https://localhost:8080/",
          "height": 186
        }
      },
      "source": [
        "for x in range(5):\n",
        "  print(\"Hello Python~!!\")"
      ],
      "execution_count": 0,
      "outputs": [
        {
          "output_type": "error",
          "ename": "TypeError",
          "evalue": "ignored",
          "traceback": [
            "\u001b[0;31m---------------------------------------------------------------------------\u001b[0m",
            "\u001b[0;31mTypeError\u001b[0m                                 Traceback (most recent call last)",
            "\u001b[0;32m<ipython-input-43-fb6124696854>\u001b[0m in \u001b[0;36m<module>\u001b[0;34m()\u001b[0m\n\u001b[0;32m----> 1\u001b[0;31m \u001b[0;32mfor\u001b[0m \u001b[0mx\u001b[0m \u001b[0;32min\u001b[0m \u001b[0mrange\u001b[0m\u001b[0;34m(\u001b[0m\u001b[0;36m5\u001b[0m\u001b[0;34m)\u001b[0m\u001b[0;34m:\u001b[0m\u001b[0;34m\u001b[0m\u001b[0;34m\u001b[0m\u001b[0m\n\u001b[0m\u001b[1;32m      2\u001b[0m   \u001b[0mprint\u001b[0m\u001b[0;34m(\u001b[0m\u001b[0;34m\"Hello Python~!!\"\u001b[0m\u001b[0;34m)\u001b[0m\u001b[0;34m\u001b[0m\u001b[0;34m\u001b[0m\u001b[0m\n",
            "\u001b[0;31mTypeError\u001b[0m: 'int' object is not callable"
          ]
        }
      ]
    },
    {
      "cell_type": "code",
      "metadata": {
        "id": "nghxWnnna_d5",
        "colab_type": "code",
        "outputId": "3ac713a9-205d-4c6e-c147-b85473d4cbb5",
        "colab": {
          "base_uri": "https://localhost:8080/",
          "height": 34
        }
      },
      "source": [
        "sum = 0\n",
        "for x in range(10):\n",
        "  sum = sum + x\n",
        "print(sum)  "
      ],
      "execution_count": 0,
      "outputs": [
        {
          "output_type": "stream",
          "text": [
            "45\n"
          ],
          "name": "stdout"
        }
      ]
    },
    {
      "cell_type": "code",
      "metadata": {
        "id": "iSZrON1JbzsR",
        "colab_type": "code",
        "outputId": "17a34fbc-71cc-45fb-ee28-b975316acb6d",
        "colab": {
          "base_uri": "https://localhost:8080/",
          "height": 34
        }
      },
      "source": [
        "sum = 0\n",
        "for x in range(1,11,1):\n",
        "  sum = sum + x\n",
        "print(sum)  "
      ],
      "execution_count": 0,
      "outputs": [
        {
          "output_type": "stream",
          "text": [
            "55\n"
          ],
          "name": "stdout"
        }
      ]
    },
    {
      "cell_type": "code",
      "metadata": {
        "id": "tOauf8uWcTZl",
        "colab_type": "code",
        "outputId": "9d4306db-60a4-4388-899a-a3e9074d538b",
        "colab": {
          "base_uri": "https://localhost:8080/",
          "height": 34
        }
      },
      "source": [
        "for x in [0, 1, 2, 3, 4, 5, 6, 7, 8, 9]:\n",
        "  print(x,end=\" \") #end 뒤는 뛰어쓰기\n",
        "  "
      ],
      "execution_count": 0,
      "outputs": [
        {
          "output_type": "stream",
          "text": [
            "0 1 2 3 4 5 6 7 8 9 "
          ],
          "name": "stdout"
        }
      ]
    },
    {
      "cell_type": "code",
      "metadata": {
        "id": "6cjuQhlic18n",
        "colab_type": "code",
        "outputId": "5b821572-1527-449c-de51-d3f5de7115c2",
        "colab": {
          "base_uri": "https://localhost:8080/",
          "height": 87
        }
      },
      "source": [
        "for name in [\"예지\", \"상혁\", \"희주\", \"상욱\"]:\n",
        "  print(\"안녕 \" + name)\n"
      ],
      "execution_count": 0,
      "outputs": [
        {
          "output_type": "stream",
          "text": [
            "안녕 예지\n",
            "안녕 상혁\n",
            "안녕 희주\n",
            "안녕 상욱\n"
          ],
          "name": "stdout"
        }
      ]
    },
    {
      "cell_type": "markdown",
      "metadata": {
        "id": "rl789sg5fR2O",
        "colab_type": "text"
      },
      "source": [
        "문자열의 반복"
      ]
    },
    {
      "cell_type": "code",
      "metadata": {
        "id": "ESrXWjNle4H7",
        "colab_type": "code",
        "outputId": "05759983-9cd5-41b0-e9e2-97448ce4f26c",
        "colab": {
          "base_uri": "https://localhost:8080/",
          "height": 34
        }
      },
      "source": [
        "for c in \"abcdef\":\n",
        "  print (c,end=\" \")"
      ],
      "execution_count": 0,
      "outputs": [
        {
          "output_type": "stream",
          "text": [
            "a b c d e f "
          ],
          "name": "stdout"
        }
      ]
    },
    {
      "cell_type": "markdown",
      "metadata": {
        "id": "FmFMN4mYfyMz",
        "colab_type": "text"
      },
      "source": [
        "while 문"
      ]
    },
    {
      "cell_type": "code",
      "metadata": {
        "id": "u7p05kznfYFZ",
        "colab_type": "code",
        "outputId": "0990b05b-8a30-4948-9ac1-f42c617bbcea",
        "colab": {
          "base_uri": "https://localhost:8080/",
          "height": 122
        }
      },
      "source": [
        "i=0\n",
        "while i < 5 : #0~4까지\n",
        "  print(\"Hello python\")\n",
        "  i = i + 1\n",
        "print(\"모든 작업이 끝났습니다.\") #들여쓰기가 중요합니다."
      ],
      "execution_count": 0,
      "outputs": [
        {
          "output_type": "stream",
          "text": [
            "Hello python\n",
            "Hello python\n",
            "Hello python\n",
            "Hello python\n",
            "Hello python\n",
            "모든 작업이 끝났습니다.\n"
          ],
          "name": "stdout"
        }
      ]
    },
    {
      "cell_type": "markdown",
      "metadata": {
        "id": "cGHKbs37gvqe",
        "colab_type": "text"
      },
      "source": [
        "분기문 (break) 실행"
      ]
    },
    {
      "cell_type": "code",
      "metadata": {
        "id": "rPvceLGfgG-I",
        "colab_type": "code",
        "outputId": "09012a95-db94-48d1-b185-cc0354aa1168",
        "colab": {
          "base_uri": "https://localhost:8080/",
          "height": 34
        }
      },
      "source": [
        "for i in range(1,100):\n",
        "  print(\"for문을 %d번 실행\" % i)\n",
        "  break"
      ],
      "execution_count": 0,
      "outputs": [
        {
          "output_type": "stream",
          "text": [
            "for문을 1번 실행\n"
          ],
          "name": "stdout"
        }
      ]
    },
    {
      "cell_type": "code",
      "metadata": {
        "id": "9Nr_wTGMg9eK",
        "colab_type": "code",
        "outputId": "0288775f-a53a-49fe-81b2-2536f40f764b",
        "colab": {
          "base_uri": "https://localhost:8080/",
          "height": 34
        }
      },
      "source": [
        "Hap, i = 0,0 #Hap, hap 둘중 어떤걸해도 상관없음\n",
        "for i in range(1,101):\n",
        "  if i % 3 ==0:\n",
        "    continue\n",
        "  hap +=i\n",
        "\n",
        "print(\"3의 배수의 합 %d\" %hap)"
      ],
      "execution_count": 0,
      "outputs": [
        {
          "output_type": "stream",
          "text": [
            "3의 배수의 합 10101\n"
          ],
          "name": "stdout"
        }
      ]
    },
    {
      "cell_type": "markdown",
      "metadata": {
        "id": "WRvNKAzpkfNc",
        "colab_type": "text"
      },
      "source": [
        "연습문제"
      ]
    },
    {
      "cell_type": "code",
      "metadata": {
        "id": "T2gzVCZDiQtl",
        "colab_type": "code",
        "outputId": "83c8b61a-8163-4f85-8ee6-ba09c6267d7b",
        "colab": {
          "base_uri": "https://localhost:8080/",
          "height": 186
        }
      },
      "source": [
        "for x in range(1,11,2): #변수와 함수의 이름이 같아서 에러 발생\n",
        "  print(x)"
      ],
      "execution_count": 0,
      "outputs": [
        {
          "output_type": "error",
          "ename": "TypeError",
          "evalue": "ignored",
          "traceback": [
            "\u001b[0;31m---------------------------------------------------------------------------\u001b[0m",
            "\u001b[0;31mTypeError\u001b[0m                                 Traceback (most recent call last)",
            "\u001b[0;32m<ipython-input-37-4e9fceea859b>\u001b[0m in \u001b[0;36m<module>\u001b[0;34m()\u001b[0m\n\u001b[0;32m----> 1\u001b[0;31m \u001b[0;32mfor\u001b[0m \u001b[0mx\u001b[0m \u001b[0;32min\u001b[0m \u001b[0mrange\u001b[0m\u001b[0;34m(\u001b[0m\u001b[0;36m1\u001b[0m\u001b[0;34m,\u001b[0m\u001b[0;36m11\u001b[0m\u001b[0;34m,\u001b[0m\u001b[0;36m2\u001b[0m\u001b[0;34m)\u001b[0m\u001b[0;34m:\u001b[0m \u001b[0;31m#변수와 함수의 이름이 같아서 에러 발생\u001b[0m\u001b[0;34m\u001b[0m\u001b[0;34m\u001b[0m\u001b[0m\n\u001b[0m\u001b[1;32m      2\u001b[0m   \u001b[0mprint\u001b[0m\u001b[0;34m(\u001b[0m\u001b[0mx\u001b[0m\u001b[0;34m)\u001b[0m\u001b[0;34m\u001b[0m\u001b[0;34m\u001b[0m\u001b[0m\n",
            "\u001b[0;31mTypeError\u001b[0m: 'int' object is not callable"
          ]
        }
      ]
    },
    {
      "cell_type": "code",
      "metadata": {
        "id": "dA2uALjijnT_",
        "colab_type": "code",
        "outputId": "67a4969e-d64d-4bd4-ac01-a3fe2cb27c56",
        "colab": {
          "base_uri": "https://localhost:8080/",
          "height": 70
        }
      },
      "source": [
        "for number in \"123\":\n",
        "    print(number)"
      ],
      "execution_count": 0,
      "outputs": [
        {
          "output_type": "stream",
          "text": [
            "1\n",
            "2\n",
            "3\n"
          ],
          "name": "stdout"
        }
      ]
    },
    {
      "cell_type": "code",
      "metadata": {
        "id": "XNIOhGvUkjeu",
        "colab_type": "code",
        "outputId": "64d41b05-faaf-4bd7-92a9-3b0dd20246d2",
        "colab": {
          "base_uri": "https://localhost:8080/",
          "height": 186
        }
      },
      "source": [
        "for number in range(3):\n",
        "    print(number)"
      ],
      "execution_count": 0,
      "outputs": [
        {
          "output_type": "error",
          "ename": "TypeError",
          "evalue": "ignored",
          "traceback": [
            "\u001b[0;31m---------------------------------------------------------------------------\u001b[0m",
            "\u001b[0;31mTypeError\u001b[0m                                 Traceback (most recent call last)",
            "\u001b[0;32m<ipython-input-42-66f1a04a7d49>\u001b[0m in \u001b[0;36m<module>\u001b[0;34m()\u001b[0m\n\u001b[0;32m----> 1\u001b[0;31m \u001b[0;32mfor\u001b[0m \u001b[0mnumber\u001b[0m \u001b[0;32min\u001b[0m \u001b[0mrange\u001b[0m\u001b[0;34m(\u001b[0m\u001b[0;36m3\u001b[0m\u001b[0;34m)\u001b[0m\u001b[0;34m:\u001b[0m\u001b[0;34m\u001b[0m\u001b[0;34m\u001b[0m\u001b[0m\n\u001b[0m\u001b[1;32m      2\u001b[0m     \u001b[0mprint\u001b[0m\u001b[0;34m(\u001b[0m\u001b[0;34m\"number\"\u001b[0m\u001b[0;34m)\u001b[0m\u001b[0;34m\u001b[0m\u001b[0;34m\u001b[0m\u001b[0m\n",
            "\u001b[0;31mTypeError\u001b[0m: 'int' object is not callable"
          ]
        }
      ]
    },
    {
      "cell_type": "code",
      "metadata": {
        "id": "_vKZNa9Nktg1",
        "colab_type": "code",
        "outputId": "ceecb613-fe26-4b32-f0cf-eaa164b57ba8",
        "colab": {
          "base_uri": "https://localhost:8080/",
          "height": 70
        }
      },
      "source": [
        "for number in range(1,4,1): # for 변수 in range(숫자): 어떤 문자로 변수를 표현하여 사용해도 TypeError: 'int' object is not callable 에러가 발생하였음\n",
        "  print(number)"
      ],
      "execution_count": 0,
      "outputs": [
        {
          "output_type": "stream",
          "text": [
            "1\n",
            "2\n",
            "3\n"
          ],
          "name": "stdout"
        }
      ]
    },
    {
      "cell_type": "code",
      "metadata": {
        "id": "a5KcBiwkkzJp",
        "colab_type": "code",
        "outputId": "aeae758b-15cc-4b43-edaa-73aaf226150f",
        "colab": {
          "base_uri": "https://localhost:8080/",
          "height": 70
        }
      },
      "source": [
        "for number in [1,2,3]:\n",
        "  print(number)"
      ],
      "execution_count": 0,
      "outputs": [
        {
          "output_type": "stream",
          "text": [
            "1\n",
            "2\n",
            "3\n"
          ],
          "name": "stdout"
        }
      ]
    },
    {
      "cell_type": "code",
      "metadata": {
        "id": "y0oC_iuMmHaZ",
        "colab_type": "code",
        "outputId": "10de4a9a-79cf-456b-9e80-f06611ff4c91",
        "colab": {
          "base_uri": "https://localhost:8080/",
          "height": 70
        }
      },
      "source": [
        "for number in range(3):\n",
        "  print(number)"
      ],
      "execution_count": 0,
      "outputs": [
        {
          "output_type": "stream",
          "text": [
            "0\n",
            "1\n",
            "2\n"
          ],
          "name": "stdout"
        }
      ]
    },
    {
      "cell_type": "markdown",
      "metadata": {
        "id": "0Ho7CsUXn6zo",
        "colab_type": "text"
      },
      "source": [
        "연습문제 어디까지 계산할까요"
      ]
    },
    {
      "cell_type": "code",
      "metadata": {
        "id": "w42Rc1Cum34H",
        "colab_type": "code",
        "outputId": "58171a2a-3c5d-4dd5-dcf1-f29d7e472b74",
        "colab": {
          "base_uri": "https://localhost:8080/",
          "height": 52
        }
      },
      "source": [
        "sum = 0\n",
        "limit = int(input(\"어디까지 계산?\"))\n",
        "for i in range(1, limit +1):\n",
        "  sum = sum + i\n",
        "print(sum) "
      ],
      "execution_count": 0,
      "outputs": [
        {
          "output_type": "stream",
          "text": [
            "어디까지 계산?777\n",
            "302253\n"
          ],
          "name": "stdout"
        }
      ]
    },
    {
      "cell_type": "code",
      "metadata": {
        "id": "rv1mO1TfnZmI",
        "colab_type": "code",
        "outputId": "9d9c9e54-5f16-4c06-ee67-862d535f52c1",
        "colab": {
          "base_uri": "https://localhost:8080/",
          "height": 52
        }
      },
      "source": [
        "sum = 1\n",
        "limit = int(input(\"어디까지 계산?\"))\n",
        "for i in range(1, limit +1):\n",
        "  sum = sum * i\n",
        "print(sum) "
      ],
      "execution_count": 0,
      "outputs": [
        {
          "output_type": "stream",
          "text": [
            "어디까지 계산?4\n",
            "24\n"
          ],
          "name": "stdout"
        }
      ]
    },
    {
      "cell_type": "code",
      "metadata": {
        "id": "64El8d0p69k5",
        "colab_type": "code",
        "outputId": "02cbd3b1-541e-408d-b821-cfb4a616c8c5",
        "colab": {
          "base_uri": "https://localhost:8080/",
          "height": 52
        }
      },
      "source": [
        "number = int(input(\"어디까지 계산\"))\n",
        "sum = 0\n",
        "while number > 0:\n",
        "  digit = number % 10\n",
        "  sum = sum + digit\n",
        "  number = number // 10\n",
        "print(sum)  "
      ],
      "execution_count": 0,
      "outputs": [
        {
          "output_type": "stream",
          "text": [
            "어디까지 계산12345\n",
            "15\n"
          ],
          "name": "stdout"
        }
      ]
    },
    {
      "cell_type": "markdown",
      "metadata": {
        "id": "S0LWMgKB9Pjv",
        "colab_type": "text"
      },
      "source": [
        "난이도 있는 문제"
      ]
    },
    {
      "cell_type": "code",
      "metadata": {
        "id": "wYzgP10g8KsZ",
        "colab_type": "code",
        "outputId": "5140c8a8-93ed-43fe-a78f-381f954253af",
        "colab": {
          "base_uri": "https://localhost:8080/",
          "height": 281
        }
      },
      "source": [
        "import random\n",
        "\n",
        "tries = 0\n",
        "number = random.randint(1,100)\n",
        "print(\"1부터 100까지 숫자를 맞추시오\")\n",
        "\n",
        "while tries <10:\n",
        "  guess = int(input( \"숫자를 입력하세요\"))\n",
        "  tries = tries + 1\n",
        "  if guess < number:\n",
        "    print (\"낮음\")\n",
        "  elif guess > number :\n",
        "    print (\"높음\")\n",
        "  else:\n",
        "    break\n",
        "\n",
        "if guess == number :\n",
        "  print(\"정답\", \"시도횟수= \",tries)\n",
        "else:\n",
        "  print(\"정답은 = \", number)           "
      ],
      "execution_count": 0,
      "outputs": [
        {
          "output_type": "stream",
          "text": [
            "1부터 100까지 숫자를 맞추시오\n",
            "숫자를 입력하세요50\n",
            "낮음\n",
            "숫자를 입력하세요75\n",
            "높음\n",
            "숫자를 입력하세요63\n",
            "높음\n",
            "숫자를 입력하세요69\n",
            "높음\n",
            "숫자를 입력하세요72\n",
            "높음\n",
            "숫자를 입력하세요56\n",
            "낮음\n",
            "숫자를 입력하세요59\n",
            "정답 시도횟수=  7\n"
          ],
          "name": "stdout"
        }
      ]
    },
    {
      "cell_type": "markdown",
      "metadata": {
        "id": "togZq1IsADa5",
        "colab_type": "text"
      },
      "source": [
        "커피자판기"
      ]
    },
    {
      "cell_type": "code",
      "metadata": {
        "id": "ywTLQve09amR",
        "colab_type": "code",
        "outputId": "978bc4f5-ad22-473b-e811-a8022826530e",
        "colab": {
          "base_uri": "https://localhost:8080/",
          "height": 386
        }
      },
      "source": [
        "coffee = 10\n",
        "money = 300\n",
        "\n",
        "while money: #왜이런지 모르겠음\n",
        "  print(\"돈을 받았으니 커피를 줍니다\")\n",
        "  coffee = coffee - 1\n",
        "  print(\"남은 커피의 양은 %d개입니다\" %coffee)\n",
        "  if not coffee:\n",
        "    print(\"커피가 다 떨어졌습니다. 판매중지\")\n",
        "    break\n"
      ],
      "execution_count": 0,
      "outputs": [
        {
          "output_type": "stream",
          "text": [
            "돈을 받았으니 커피를 줍니다\n",
            "남은 커피의 양은 9개입니다\n",
            "돈을 받았으니 커피를 줍니다\n",
            "남은 커피의 양은 8개입니다\n",
            "돈을 받았으니 커피를 줍니다\n",
            "남은 커피의 양은 7개입니다\n",
            "돈을 받았으니 커피를 줍니다\n",
            "남은 커피의 양은 6개입니다\n",
            "돈을 받았으니 커피를 줍니다\n",
            "남은 커피의 양은 5개입니다\n",
            "돈을 받았으니 커피를 줍니다\n",
            "남은 커피의 양은 4개입니다\n",
            "돈을 받았으니 커피를 줍니다\n",
            "남은 커피의 양은 3개입니다\n",
            "돈을 받았으니 커피를 줍니다\n",
            "남은 커피의 양은 2개입니다\n",
            "돈을 받았으니 커피를 줍니다\n",
            "남은 커피의 양은 1개입니다\n",
            "돈을 받았으니 커피를 줍니다\n",
            "남은 커피의 양은 0개입니다\n",
            "커피가 다 떨어졌습니다. 판매중지\n"
          ],
          "name": "stdout"
        }
      ]
    },
    {
      "cell_type": "markdown",
      "metadata": {
        "id": "qU8ezaMnDPHp",
        "colab_type": "text"
      },
      "source": [
        "연습문제"
      ]
    },
    {
      "cell_type": "code",
      "metadata": {
        "id": "m2LzoPYDAo8f",
        "colab_type": "code",
        "outputId": "0b55bdaa-fe9d-4b14-cb63-a1189d3d326f",
        "colab": {
          "base_uri": "https://localhost:8080/",
          "height": 34
        }
      },
      "source": [
        "for x in range(1,10):\n",
        "  if x % 3 ==0:\n",
        "    break\n",
        "  print(x, end=\" \")\n",
        "print(\"끝\") "
      ],
      "execution_count": 0,
      "outputs": [
        {
          "output_type": "stream",
          "text": [
            "1 2 끝\n"
          ],
          "name": "stdout"
        }
      ]
    },
    {
      "cell_type": "code",
      "metadata": {
        "id": "cYfiqzWEBHuW",
        "colab_type": "code",
        "outputId": "a4c4e7b9-7653-4c11-9d7a-bd97908319ad",
        "colab": {
          "base_uri": "https://localhost:8080/",
          "height": 34
        }
      },
      "source": [
        "hap = 0\n",
        "for i in range(1,10):\n",
        "  if i % 2 == 0 :\n",
        "    continue\n",
        "  hap += i\n",
        "print(hap)  \n"
      ],
      "execution_count": 0,
      "outputs": [
        {
          "output_type": "stream",
          "text": [
            "25\n"
          ],
          "name": "stdout"
        }
      ]
    },
    {
      "cell_type": "markdown",
      "metadata": {
        "id": "KcS7tpvVFK3e",
        "colab_type": "text"
      },
      "source": [
        "함수 만들기"
      ]
    },
    {
      "cell_type": "code",
      "metadata": {
        "id": "rjpAoLxwFKcl",
        "colab_type": "code",
        "colab": {}
      },
      "source": [
        "def add(a,b):\n",
        "  return a + b"
      ],
      "execution_count": 0,
      "outputs": []
    },
    {
      "cell_type": "code",
      "metadata": {
        "id": "Aa3raENyCmir",
        "colab_type": "code",
        "outputId": "2d166088-e500-4a88-f6ef-217e3abcb923",
        "colab": {
          "base_uri": "https://localhost:8080/",
          "height": 34
        }
      },
      "source": [
        "add(1,2)"
      ],
      "execution_count": 0,
      "outputs": [
        {
          "output_type": "execute_result",
          "data": {
            "text/plain": [
              "3"
            ]
          },
          "metadata": {
            "tags": []
          },
          "execution_count": 20
        }
      ]
    },
    {
      "cell_type": "markdown",
      "metadata": {
        "id": "LyJdcA0YGNXw",
        "colab_type": "text"
      },
      "source": [
        "입력값과 반환값이 없는 함수"
      ]
    },
    {
      "cell_type": "code",
      "metadata": {
        "id": "D0l_WlDNFUAx",
        "colab_type": "code",
        "colab": {}
      },
      "source": [
        "def say():\n",
        "  print(\"hello\") #문자만 있고"
      ],
      "execution_count": 0,
      "outputs": []
    },
    {
      "cell_type": "code",
      "metadata": {
        "id": "vQd83pT6F8xv",
        "colab_type": "code",
        "outputId": "0f1b9726-4c0c-478c-fe39-2aa61eb285b0",
        "colab": {
          "base_uri": "https://localhost:8080/",
          "height": 34
        }
      },
      "source": [
        "say()"
      ],
      "execution_count": 0,
      "outputs": [
        {
          "output_type": "stream",
          "text": [
            "hello\n"
          ],
          "name": "stdout"
        }
      ]
    },
    {
      "cell_type": "markdown",
      "metadata": {
        "id": "4uenJNRAGRQi",
        "colab_type": "text"
      },
      "source": [
        "입력값은 없고 반환값은 있는 함수"
      ]
    },
    {
      "cell_type": "code",
      "metadata": {
        "id": "Wqm6bR58F9ye",
        "colab_type": "code",
        "colab": {}
      },
      "source": [
        "def say():\n",
        "  return(\"hello\") #결과값을 반환"
      ],
      "execution_count": 0,
      "outputs": []
    },
    {
      "cell_type": "code",
      "metadata": {
        "id": "G4_me6OIGFvu",
        "colab_type": "code",
        "outputId": "036fdc70-dbe8-4460-ff91-675f89d24f05",
        "colab": {
          "base_uri": "https://localhost:8080/",
          "height": 34
        }
      },
      "source": [
        "say()"
      ],
      "execution_count": 0,
      "outputs": [
        {
          "output_type": "execute_result",
          "data": {
            "text/plain": [
              "'hello'"
            ]
          },
          "metadata": {
            "tags": []
          },
          "execution_count": 29
        }
      ]
    },
    {
      "cell_type": "markdown",
      "metadata": {
        "id": "-j7PJQ4yH5O0",
        "colab_type": "text"
      },
      "source": [
        "함수 정의 연습"
      ]
    },
    {
      "cell_type": "code",
      "metadata": {
        "id": "MbVpFKTzGGm2",
        "colab_type": "code",
        "outputId": "31be1b6e-0d78-4f4a-b18b-d5110de62c8d",
        "colab": {
          "base_uri": "https://localhost:8080/",
          "height": 34
        }
      },
      "source": [
        "def power(x,y):\n",
        "  result = 1\n",
        "  for i in range(y): #i는 임의의수 상관없음\n",
        "    result = result * x\n",
        "  return result\n",
        "print(power(10,2))    "
      ],
      "execution_count": 0,
      "outputs": [
        {
          "output_type": "stream",
          "text": [
            "100\n"
          ],
          "name": "stdout"
        }
      ]
    },
    {
      "cell_type": "code",
      "metadata": {
        "id": "TxUx8PKdHENU",
        "colab_type": "code",
        "outputId": "1bfb0ac0-6e69-41de-c0b6-d50b67a158b6",
        "colab": {
          "base_uri": "https://localhost:8080/",
          "height": 34
        }
      },
      "source": [
        "def main(): #함수값 미리 선언\n",
        "  print(power(10,2))  \n",
        "def power(x,y):\n",
        "  result = 1\n",
        "  for i in range(y): #i는 임의의수 상관없음\n",
        "    result = result * x\n",
        "  return result\n",
        "main()\n"
      ],
      "execution_count": 0,
      "outputs": [
        {
          "output_type": "stream",
          "text": [
            "100\n"
          ],
          "name": "stdout"
        }
      ]
    },
    {
      "cell_type": "markdown",
      "metadata": {
        "id": "ZwNn-6mXLx1L",
        "colab_type": "text"
      },
      "source": [
        "함수예제"
      ]
    },
    {
      "cell_type": "code",
      "metadata": {
        "id": "vdeurGBNLzkM",
        "colab_type": "code",
        "colab": {}
      },
      "source": [
        "def add(a,b):\n",
        "  return a+b"
      ],
      "execution_count": 0,
      "outputs": []
    },
    {
      "cell_type": "code",
      "metadata": {
        "id": "X2J3_WDHL8E-",
        "colab_type": "code",
        "colab": {}
      },
      "source": [
        "def swap(a,b):\n",
        "   a,b = b,a\n",
        "   return a,b"
      ],
      "execution_count": 0,
      "outputs": []
    },
    {
      "cell_type": "code",
      "metadata": {
        "id": "XoUT_Xm-MF9c",
        "colab_type": "code",
        "outputId": "ea397cbb-e7a2-438e-dec2-dcbe5de386c7",
        "colab": {
          "base_uri": "https://localhost:8080/",
          "height": 105
        }
      },
      "source": [
        "a = int(input(\"정수1:\"))\n",
        "b = int(input(\"정수2:\"))\n",
        "sum = add(a,b)\n",
        "average = sum/2\n",
        "a,b= swap(a,b)\n",
        "print(sum)\n",
        "print(average)\n",
        "print(a,b)"
      ],
      "execution_count": 0,
      "outputs": [
        {
          "output_type": "stream",
          "text": [
            "정수1:100\n",
            "정수2:50\n",
            "150\n",
            "75.0\n",
            "50 100\n"
          ],
          "name": "stdout"
        }
      ]
    },
    {
      "cell_type": "markdown",
      "metadata": {
        "id": "08Cj8bdgZWxP",
        "colab_type": "text"
      },
      "source": [
        "리스트 순회하기"
      ]
    },
    {
      "cell_type": "code",
      "metadata": {
        "id": "BmAPhA52Mjev",
        "colab_type": "code",
        "outputId": "d996ffdb-ed74-4d40-cf6d-21b45b5a36f4",
        "colab": {
          "base_uri": "https://localhost:8080/",
          "height": 34
        }
      },
      "source": [
        "scores = [1,2,3,4,5,6,7]\n",
        "\n",
        "for elements in scores:\n",
        "    print(elements,end='')"
      ],
      "execution_count": 0,
      "outputs": [
        {
          "output_type": "stream",
          "text": [
            "1234567"
          ],
          "name": "stdout"
        }
      ]
    },
    {
      "cell_type": "code",
      "metadata": {
        "id": "z2AYvNTvZjAP",
        "colab_type": "code",
        "outputId": "e588153a-7224-4878-ef9a-6d36a867040e",
        "colab": {
          "base_uri": "https://localhost:8080/",
          "height": 105
        }
      },
      "source": [
        "scores = []\n",
        "scoresum = 0\n",
        "for i in range(5):\n",
        "  value = int(input(\"점수를 입력하세요\"))\n",
        "  scores.append(value)\n",
        "  scoresum += value\n",
        "\n",
        "scoreaverage = scoresum/len(scores) \n",
        "highscoresum = 0\n",
        "\n",
        "for i in range(len(scores)):\n",
        "  if scores[i] >= 80:\n",
        "    highscoresum += 1\n",
        "     \n",
        "\n"
      ],
      "execution_count": 0,
      "outputs": [
        {
          "output_type": "stream",
          "text": [
            "점수를 입력하세요100\n",
            "점수를 입력하세요90\n",
            "점수를 입력하세요80\n",
            "점수를 입력하세요70\n",
            "점수를 입력하세요60\n"
          ],
          "name": "stdout"
        }
      ]
    },
    {
      "cell_type": "code",
      "metadata": {
        "id": "d6Dz-_rRc3sA",
        "colab_type": "code",
        "outputId": "27b30438-4d14-4201-ee68-703dc7f7b7fa",
        "colab": {
          "base_uri": "https://localhost:8080/",
          "height": 70
        }
      },
      "source": [
        "print(scores)\n",
        "print(scoresum)\n",
        "print(highscoresum) "
      ],
      "execution_count": 0,
      "outputs": [
        {
          "output_type": "stream",
          "text": [
            "[100, 90, 80, 70, 60]\n",
            "400\n",
            "3\n"
          ],
          "name": "stdout"
        }
      ]
    },
    {
      "cell_type": "code",
      "metadata": {
        "id": "eGEnxFi-dYFA",
        "colab_type": "code",
        "outputId": "be363bd2-b825-47e8-a657-3dabc498b782",
        "colab": {
          "base_uri": "https://localhost:8080/",
          "height": 122
        }
      },
      "source": [
        "Names = []\n",
        "while True :\n",
        "  names = input(\"이름을 입력하세요\")\n",
        "  if names == \"\":\n",
        "    break\n",
        "  Names.append(names)\n",
        "\n",
        "print(\"학생이름\")\n",
        "for names in Names:\n",
        "  print(names,end=\" \")"
      ],
      "execution_count": 0,
      "outputs": [
        {
          "output_type": "stream",
          "text": [
            "이름을 입력하세요예지\n",
            "이름을 입력하세요희주\n",
            "이름을 입력하세요너어\n",
            "이름을 입력하세요\n",
            "학생이름\n",
            "예지 희주 너어 "
          ],
          "name": "stdout"
        }
      ]
    },
    {
      "cell_type": "code",
      "metadata": {
        "id": "U8oabFdpfR2Z",
        "colab_type": "code",
        "outputId": "4a9501eb-8d51-44e2-86e4-6312f28fb3db",
        "colab": {
          "base_uri": "https://localhost:8080/",
          "height": 34
        }
      },
      "source": [
        "scores = [ 32, 56, 64, 72, 12, 37, 98, 77, 59, 69]\n",
        "\n",
        "count = 0\n",
        "for element in scores:\n",
        "  if element >=70:\n",
        "    count += 1\n",
        "    \n",
        "    \n",
        "print(count)"
      ],
      "execution_count": 0,
      "outputs": [
        {
          "output_type": "stream",
          "text": [
            "3\n"
          ],
          "name": "stdout"
        }
      ]
    },
    {
      "cell_type": "markdown",
      "metadata": {
        "id": "eBwHe8hn-LVn",
        "colab_type": "text"
      },
      "source": [
        "어려운 예제 (꼭 다시해보기)"
      ]
    },
    {
      "cell_type": "code",
      "metadata": {
        "id": "SfTjdhzMiHIT",
        "colab_type": "code",
        "outputId": "216f55f8-2e2a-41f3-c0f9-5f5b89efb170",
        "colab": {
          "base_uri": "https://localhost:8080/",
          "height": 1000
        }
      },
      "source": [
        "menu = 0\n",
        "friend = []\n",
        "while menu != 9:\n",
        "  print(\"----\")\n",
        "  print(\"1.통화목록 출력\")\n",
        "  print(\"2.친구추가\")\n",
        "  print(\"3.친구삭제\")\n",
        "  print(\"4. 이름변경\")\n",
        "  print(\"9. 종료\")\n",
        "  menu = int(input(\"어떤메뉴를 선택하시겠습니까?\"))\n",
        "  if menu == 1:\n",
        "    print(friend)\n",
        "  elif menu == 2:\n",
        "    name = input(\"이름을 입력하세요\")\n",
        "    friend.append(name)  \n",
        "  elif menu == 3:\n",
        "    del_name = input(\"삭제하고 싶은 이름을 입력하세요\")\n",
        "    if del_name in friend:\n",
        "        friend.remove(del_name)\n",
        "    else:\n",
        "      print(\"이름이 발견되지 않음\")\n",
        "  elif menu == 4:\n",
        "    old_name = input(\"변경하고 싶은 이름 입력하세요\")\n",
        "    if old_name in friend:\n",
        "       index = friend.index(old_name)\n",
        "       new_name = input(\"변경할 새로운 이름을 입력하세요\")\n",
        "       friend[index]=new_name\n",
        "    else:\n",
        "       print(\"이름이 발견되지 않음\")"
      ],
      "execution_count": 0,
      "outputs": [
        {
          "output_type": "stream",
          "text": [
            "----\n",
            "1.통화목록 출력\n",
            "2.친구추가\n",
            "3.친구삭제\n",
            "4. 이름변경\n",
            "9. 종료\n",
            "어떤메뉴를 선택하시겠습니까?1\n",
            "[]\n",
            "----\n",
            "1.통화목록 출력\n",
            "2.친구추가\n",
            "3.친구삭제\n",
            "4. 이름변경\n",
            "9. 종료\n",
            "어떤메뉴를 선택하시겠습니까?2\n",
            "이름을 입력하세요정예지\n",
            "----\n",
            "1.통화목록 출력\n",
            "2.친구추가\n",
            "3.친구삭제\n",
            "4. 이름변경\n",
            "9. 종료\n",
            "어떤메뉴를 선택하시겠습니까?1\n",
            "['정예지']\n",
            "----\n",
            "1.통화목록 출력\n",
            "2.친구추가\n",
            "3.친구삭제\n",
            "4. 이름변경\n",
            "9. 종료\n",
            "어떤메뉴를 선택하시겠습니까?2\n",
            "이름을 입력하세요손희주\n",
            "----\n",
            "1.통화목록 출력\n",
            "2.친구추가\n",
            "3.친구삭제\n",
            "4. 이름변경\n",
            "9. 종료\n",
            "어떤메뉴를 선택하시겠습니까?1\n",
            "['정예지', '손희주']\n",
            "----\n",
            "1.통화목록 출력\n",
            "2.친구추가\n",
            "3.친구삭제\n",
            "4. 이름변경\n",
            "9. 종료\n",
            "어떤메뉴를 선택하시겠습니까?4\n",
            "변경하고 싶은 이름 입력하세요손희주\n",
            "변경할 새로운 이름을 입력하세요뛰뛰\n",
            "----\n",
            "1.통화목록 출력\n",
            "2.친구추가\n",
            "3.친구삭제\n",
            "4. 이름변경\n",
            "9. 종료\n",
            "어떤메뉴를 선택하시겠습니까?1\n",
            "['정예지', '뛰뛰']\n",
            "----\n",
            "1.통화목록 출력\n",
            "2.친구추가\n",
            "3.친구삭제\n",
            "4. 이름변경\n",
            "9. 종료\n",
            "어떤메뉴를 선택하시겠습니까?9\n"
          ],
          "name": "stdout"
        }
      ]
    },
    {
      "cell_type": "markdown",
      "metadata": {
        "id": "OYzD59J1BHPz",
        "colab_type": "text"
      },
      "source": [
        "튜플 예시(더하기 가능 증명)"
      ]
    },
    {
      "cell_type": "code",
      "metadata": {
        "id": "fzRYTmQm_hjo",
        "colab_type": "code",
        "outputId": "502639ff-4ba4-4469-c481-bac89eee98f6",
        "colab": {
          "base_uri": "https://localhost:8080/",
          "height": 34
        }
      },
      "source": [
        "color = (\"red\",\"blue\",\"gray\")\n",
        "number = (1,2,3)\n",
        "t = color + number\n",
        "print(t)"
      ],
      "execution_count": 0,
      "outputs": [
        {
          "output_type": "stream",
          "text": [
            "('red', 'blue', 'gray', 1, 2, 3)\n"
          ],
          "name": "stdout"
        }
      ]
    },
    {
      "cell_type": "markdown",
      "metadata": {
        "id": "O-FBImDdBpLE",
        "colab_type": "text"
      },
      "source": [
        "딕셔너리 (접근방식도 설명)"
      ]
    },
    {
      "cell_type": "code",
      "metadata": {
        "id": "TjJ-FofQBo2J",
        "colab_type": "code",
        "outputId": "f9c2d795-3d72-4f71-8abc-8615a7da7f16",
        "colab": {
          "base_uri": "https://localhost:8080/",
          "height": 34
        }
      },
      "source": [
        "contact = {'son':119,'hee':112,'ju':114}\n",
        "contact['son']"
      ],
      "execution_count": 0,
      "outputs": [
        {
          "output_type": "execute_result",
          "data": {
            "text/plain": [
              "119"
            ]
          },
          "metadata": {
            "tags": []
          },
          "execution_count": 5
        }
      ]
    },
    {
      "cell_type": "code",
      "metadata": {
        "id": "-hzBEuJrBTkU",
        "colab_type": "code",
        "outputId": "69e102fe-85e4-4399-88aa-11a15f09d908",
        "colab": {
          "base_uri": "https://localhost:8080/",
          "height": 34
        }
      },
      "source": [
        "contact.get('hee')"
      ],
      "execution_count": 0,
      "outputs": [
        {
          "output_type": "execute_result",
          "data": {
            "text/plain": [
              "112"
            ]
          },
          "metadata": {
            "tags": []
          },
          "execution_count": 8
        }
      ]
    },
    {
      "cell_type": "markdown",
      "metadata": {
        "id": "ZXuBXzjqCeeK",
        "colab_type": "text"
      },
      "source": [
        "딕셔너리 항목순회하기"
      ]
    },
    {
      "cell_type": "code",
      "metadata": {
        "id": "FiK2Wl5BCGyM",
        "colab_type": "code",
        "outputId": "184021d1-a7d3-4675-bd55-b2a6e52a6ade",
        "colab": {
          "base_uri": "https://localhost:8080/",
          "height": 70
        }
      },
      "source": [
        "scores = {'korean':70, 'math':50, 'english':40}\n",
        "for items in scores.items():\n",
        "  print(items)"
      ],
      "execution_count": 0,
      "outputs": [
        {
          "output_type": "stream",
          "text": [
            "('korean', 70)\n",
            "('math', 50)\n",
            "('english', 40)\n"
          ],
          "name": "stdout"
        }
      ]
    },
    {
      "cell_type": "markdown",
      "metadata": {
        "id": "Cz76nm45Dltn",
        "colab_type": "text"
      },
      "source": [
        "문자열 in 연산자, not in 연산자"
      ]
    },
    {
      "cell_type": "code",
      "metadata": {
        "id": "aNWQeN1eC3_9",
        "colab_type": "code",
        "outputId": "fc1d3beb-b27d-4963-9845-b129af8f9309",
        "colab": {
          "base_uri": "https://localhost:8080/",
          "height": 34
        }
      },
      "source": [
        "you = \"i love you\"\n",
        "\"love\" in you"
      ],
      "execution_count": 0,
      "outputs": [
        {
          "output_type": "execute_result",
          "data": {
            "text/plain": [
              "True"
            ]
          },
          "metadata": {
            "tags": []
          },
          "execution_count": 11
        }
      ]
    },
    {
      "cell_type": "code",
      "metadata": {
        "id": "GlyWjRjeD0y0",
        "colab_type": "code",
        "outputId": "9f90f49f-4d59-4d28-cfd4-286eed43aac5",
        "colab": {
          "base_uri": "https://localhost:8080/",
          "height": 52
        }
      },
      "source": [
        "s = input(\"문자열 입력해주세요\")\n",
        "if 'c' in s:\n",
        "  print('c가 포함되어 있음')\n",
        "else:\n",
        "  print('c가 포함되어 있지 않음')  "
      ],
      "execution_count": 0,
      "outputs": [
        {
          "output_type": "stream",
          "text": [
            "문자열 입력해주세요abcde\n",
            "c가 포함되어 있음\n"
          ],
          "name": "stdout"
        }
      ]
    },
    {
      "cell_type": "code",
      "metadata": {
        "id": "OZYhzDWeEIUM",
        "colab_type": "code",
        "outputId": "a61c7951-10db-4dc4-98dd-2cc310facb1d",
        "colab": {
          "base_uri": "https://localhost:8080/",
          "height": 186
        }
      },
      "source": [
        "t = (1,2,3,4,5)\n",
        "t[0]=10"
      ],
      "execution_count": 0,
      "outputs": [
        {
          "output_type": "error",
          "ename": "TypeError",
          "evalue": "ignored",
          "traceback": [
            "\u001b[0;31m---------------------------------------------------------------------------\u001b[0m",
            "\u001b[0;31mTypeError\u001b[0m                                 Traceback (most recent call last)",
            "\u001b[0;32m<ipython-input-15-8df1145364f2>\u001b[0m in \u001b[0;36m<module>\u001b[0;34m()\u001b[0m\n\u001b[1;32m      1\u001b[0m \u001b[0mt\u001b[0m \u001b[0;34m=\u001b[0m \u001b[0;34m(\u001b[0m\u001b[0;36m1\u001b[0m\u001b[0;34m,\u001b[0m\u001b[0;36m2\u001b[0m\u001b[0;34m,\u001b[0m\u001b[0;36m3\u001b[0m\u001b[0;34m,\u001b[0m\u001b[0;36m4\u001b[0m\u001b[0;34m,\u001b[0m\u001b[0;36m5\u001b[0m\u001b[0;34m)\u001b[0m\u001b[0;34m\u001b[0m\u001b[0;34m\u001b[0m\u001b[0m\n\u001b[0;32m----> 2\u001b[0;31m \u001b[0mt\u001b[0m\u001b[0;34m[\u001b[0m\u001b[0;36m0\u001b[0m\u001b[0;34m]\u001b[0m\u001b[0;34m=\u001b[0m\u001b[0;36m10\u001b[0m\u001b[0;34m\u001b[0m\u001b[0;34m\u001b[0m\u001b[0m\n\u001b[0m",
            "\u001b[0;31mTypeError\u001b[0m: 'tuple' object does not support item assignment"
          ]
        }
      ]
    },
    {
      "cell_type": "code",
      "metadata": {
        "id": "WGZqg7KMEfdV",
        "colab_type": "code",
        "outputId": "19e884be-b917-4c4e-bfa1-e4d6403de8a2",
        "colab": {
          "base_uri": "https://localhost:8080/",
          "height": 34
        }
      },
      "source": [
        "t"
      ],
      "execution_count": 0,
      "outputs": [
        {
          "output_type": "execute_result",
          "data": {
            "text/plain": [
              "(1, 2, 3, 4, 5)"
            ]
          },
          "metadata": {
            "tags": []
          },
          "execution_count": 14
        }
      ]
    },
    {
      "cell_type": "code",
      "metadata": {
        "id": "SHbyKTTyEgbs",
        "colab_type": "code",
        "outputId": "50e72b85-6b75-4e70-9968-8450ee9f9abe",
        "colab": {
          "base_uri": "https://localhost:8080/",
          "height": 34
        }
      },
      "source": [
        "scores = {'korean':70, 'math':90, 'english':40}\n",
        "print(scores['math'])"
      ],
      "execution_count": 0,
      "outputs": [
        {
          "output_type": "stream",
          "text": [
            "90\n"
          ],
          "name": "stdout"
        }
      ]
    },
    {
      "cell_type": "code",
      "metadata": {
        "id": "maZNa8xmEvE5",
        "colab_type": "code",
        "outputId": "a42e9f4f-aa12-4e78-e4be-3a769b94d4e9",
        "colab": {
          "base_uri": "https://localhost:8080/",
          "height": 34
        }
      },
      "source": [
        "word = 'python'\n",
        "word[2:4]"
      ],
      "execution_count": 0,
      "outputs": [
        {
          "output_type": "execute_result",
          "data": {
            "text/plain": [
              "'th'"
            ]
          },
          "metadata": {
            "tags": []
          },
          "execution_count": 18
        }
      ]
    },
    {
      "cell_type": "code",
      "metadata": {
        "id": "82TniMYJE4De",
        "colab_type": "code",
        "outputId": "d015c1b7-b0d4-4bf2-a80a-042fa31e214f",
        "colab": {
          "base_uri": "https://localhost:8080/",
          "height": 34
        }
      },
      "source": [
        "word = 'python'\n",
        "if 'on' in word:\n",
        "  print(True)\n",
        "else:\n",
        "  print(False)  "
      ],
      "execution_count": 0,
      "outputs": [
        {
          "output_type": "stream",
          "text": [
            "True\n"
          ],
          "name": "stdout"
        }
      ]
    },
    {
      "cell_type": "code",
      "metadata": {
        "id": "YdE105xhFJne",
        "colab_type": "code",
        "colab": {}
      },
      "source": [
        ""
      ],
      "execution_count": 0,
      "outputs": []
    }
  ]
}